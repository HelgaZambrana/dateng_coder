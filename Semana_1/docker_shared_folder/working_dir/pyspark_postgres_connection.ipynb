{
 "cells": [
  {
   "cell_type": "markdown",
   "id": "ef24e605-b475-4392-a51c-a856241e1919",
   "metadata": {},
   "source": [
    "# Conexion entre Pyspark y Postgres"
   ]
  },
  {
   "cell_type": "code",
   "execution_count": 9,
   "id": "073a5949-b102-4a68-83a7-ac1d7cb3da59",
   "metadata": {
    "tags": []
   },
   "outputs": [],
   "source": [
    "import os\n",
    "\n",
    "from pyspark.sql import SparkSession\n",
    "\n",
    "# driver_path = \"/home/lucas/working_dir/driver_jdbc/postgresql-42.5.2.jar\" # old\n",
    "driver_path = \"/home/lucas/working_dir/driver_jdbc/postgresql-42.2.27.jre7.jar\"\n",
    "\n",
    "os.environ['PYSPARK_SUBMIT_ARGS'] = f'--driver-class-path {driver_path} --jars {driver_path} pyspark-shell'\n",
    "os.environ['SPARK_CLASSPATH'] = driver_path\n",
    "\n",
    "# Create SparkSession \n",
    "spark = SparkSession.builder \\\n",
    "        .master(\"local\") \\\n",
    "        .appName(\"Conexion entre Pyspark y Postgres\") \\\n",
    "        .config(\"spark.jars\", driver_path) \\\n",
    "        .config(\"spark.executor.extraClassPath\", driver_path) \\\n",
    "        .getOrCreate()\n",
    "\n",
    "# Postgres connection settings\n",
    "pg_url = \"jdbc:postgresql://172.18.0.2:5432/postgres\"\n",
    "pg_user = \"postgres\" # not recommended to have this value in the code\n",
    "pg_password = \"postgres\" # not recommended to have this value in the code\n",
    "pg_driver = \"org.postgresql.Driver\""
   ]
  },
  {
   "cell_type": "code",
   "execution_count": 10,
   "id": "76c40c3c-03d7-48c5-abd4-eb8b3411ac7a",
   "metadata": {
    "tags": []
   },
   "outputs": [
    {
     "name": "stdout",
     "output_type": "stream",
     "text": [
      "root\n",
      " |-- agentid: integer (nullable = true)\n",
      " |-- name: string (nullable = true)\n",
      "\n",
      "+-------+------------------+\n",
      "|agentid|              name|\n",
      "+-------+------------------+\n",
      "|      0|  Michele Williams|\n",
      "|      1|    Jocelyn Parker|\n",
      "|      2|Christopher Moreno|\n",
      "|      3|       Todd Morrow|\n",
      "|      4|       Randy Moore|\n",
      "|      5|        Paul Nunez|\n",
      "|      6|      Gloria Singh|\n",
      "|      7|      Angel Briggs|\n",
      "|      8|      Lisa Cordova|\n",
      "|      9|        Dana Hardy|\n",
      "|     10|           Agent X|\n",
      "+-------+------------------+\n",
      "\n"
     ]
    }
   ],
   "source": [
    "# Create the connection and read the table\n",
    "df_agents = spark.read \\\n",
    "    .format(\"jdbc\") \\\n",
    "    .option(\"url\", pg_url) \\\n",
    "    .option(\"dbtable\", \"agents\") \\\n",
    "    .option(\"user\", pg_user) \\\n",
    "    .option(\"password\", pg_password) \\\n",
    "    .option(\"driver\", pg_driver) \\\n",
    "    .load()\n",
    "\n",
    "df_agents.printSchema()\n",
    "df_agents.show()"
   ]
  },
  {
   "cell_type": "code",
   "execution_count": 12,
   "id": "d76ff1ad-07dc-4252-957a-f75142d7bfbe",
   "metadata": {
    "tags": []
   },
   "outputs": [
    {
     "name": "stdout",
     "output_type": "stream",
     "text": [
      "root\n",
      " |-- callid: integer (nullable = true)\n",
      " |-- agentid: integer (nullable = true)\n",
      " |-- customerid: integer (nullable = true)\n",
      " |-- pickedup: integer (nullable = true)\n",
      " |-- duration: integer (nullable = true)\n",
      " |-- productsold: integer (nullable = true)\n",
      "\n",
      "+------+-------+----------+--------+--------+-----------+\n",
      "|callid|agentid|customerid|pickedup|duration|productsold|\n",
      "+------+-------+----------+--------+--------+-----------+\n",
      "|     0|     10|       179|       0|       0|          0|\n",
      "|     1|      5|       691|       1|     116|          0|\n",
      "|     2|     10|        80|       1|     165|          0|\n",
      "|     3|      6|       629|       1|     128|          0|\n",
      "|     4|      8|       318|       1|     205|          0|\n",
      "|     5|      7|       319|       1|     225|          1|\n",
      "|     6|     10|       265|       1|     211|          0|\n",
      "|     7|      9|       625|       0|       0|          0|\n",
      "|     8|      5|       877|       0|       0|          0|\n",
      "|     9|      5|       191|       1|     145|          0|\n",
      "|    10|      9|       494|       0|       0|          0|\n",
      "|    11|      5|       558|       0|       0|          0|\n",
      "|    12|      3|       703|       1|     303|          0|\n",
      "|    13|      5|       684|       1|     258|          0|\n",
      "|    14|      2|       601|       1|     179|          0|\n",
      "|    15|     10|       399|       0|       0|          0|\n",
      "|    16|      8|       460|       0|       0|          0|\n",
      "|    17|     10|       858|       1|     118|          1|\n",
      "|    18|      4|       192|       0|       0|          0|\n",
      "|    19|      8|       413|       1|     180|          0|\n",
      "+------+-------+----------+--------+--------+-----------+\n",
      "only showing top 20 rows\n",
      "\n"
     ]
    },
    {
     "data": {
      "text/plain": [
       "9940"
      ]
     },
     "execution_count": 12,
     "metadata": {},
     "output_type": "execute_result"
    }
   ],
   "source": [
    "# Create the connection and read the table\n",
    "df_calls = spark.read \\\n",
    "    .format(\"jdbc\") \\\n",
    "    .option(\"url\", pg_url) \\\n",
    "    .option(\"dbtable\", \"calls\") \\\n",
    "    .option(\"user\", pg_user) \\\n",
    "    .option(\"password\", pg_password) \\\n",
    "    .option(\"driver\", pg_driver) \\\n",
    "    .load()\n",
    "\n",
    "df_calls.printSchema()\n",
    "df_calls.show()\n",
    "df_calls.count()"
   ]
  },
  {
   "cell_type": "code",
   "execution_count": 13,
   "id": "2a9d23c1-9950-4974-b424-1f5ee0ec4274",
   "metadata": {
    "tags": []
   },
   "outputs": [
    {
     "name": "stdout",
     "output_type": "stream",
     "text": [
      "root\n",
      " |-- customerid: integer (nullable = true)\n",
      " |-- name: string (nullable = true)\n",
      " |-- occupation: string (nullable = true)\n",
      " |-- email: string (nullable = true)\n",
      " |-- company: string (nullable = true)\n",
      " |-- phonenumber: string (nullable = true)\n",
      " |-- age: integer (nullable = true)\n",
      "\n",
      "+----------+------------------+--------------------+--------------------+--------------------+------------+---+\n",
      "|customerid|              name|          occupation|               email|             company| phonenumber|age|\n",
      "+----------+------------------+--------------------+--------------------+--------------------+------------+---+\n",
      "|         0|      David Melton|          Unemployed|    DMelton@zoho.com|Morris, Winters a...|409-093-0748| 16|\n",
      "|         1|  Michael Gonzalez|             Student|Gonzalez_Michael@...|  Hernandez and Sons|231-845-0673| 19|\n",
      "|         2|     Amanda Wilson|             Student|Amanda.Wilson75@v...|Mooney, West and ...|844-276-4552| 18|\n",
      "|         3|     Robert Thomas|Engineer, structural| RThomas@xfinity.com|      Johnson-Gordon|410-404-8000| 25|\n",
      "|         4|        Eddie Hall|             Surgeon|EddieHall@outlook...|          Dawson LLC|872-287-2196| 30|\n",
      "|         5|  Charles Cruz DDS|          Unemployed|CharlesDDS55@hotm...|   Mitchell and Sons|744-564-0382| 16|\n",
      "|         6|     Maria Johnson|Engineer, aeronau...|    MJohnson@aol.com|         Gibbs-Avery|448-258-9852| 22|\n",
      "|         7|    Michael Vaughn|   Librarian, public|MichaelVaughn@zoh...|            Rice LLC|275-669-5217| 30|\n",
      "|         8|Emily Anderson DDS|           Solicitor| Emily_DDS@yahoo.com|     Little and Sons|334-290-7258| 28|\n",
      "|         9|     Travis Jensen|          Unemployed|Travis.Jensen@hot...|     Edwards-Collins|106-848-8870| 13|\n",
      "|        10|        Ryan Banks|             Student|Ryan_Banks35@gmai...|Mitchell, Dean an...|465-548-1441| 21|\n",
      "|        11| Brandon Alexander|   Chemical engineer|Alexander_Brandon...|         Robbins Ltd|305-319-8515| 29|\n",
      "|        12|     Valerie Moore|          Unemployed|Moore_Valerie@ver...|       Choi and Sons|288-680-8457| 16|\n",
      "|        13|          Tina Cox|          Unemployed|Tina_Cox@protonma...|Giles, Harris and...|535-922-1854| 16|\n",
      "|        14|    Michelle Reyes|  Engineer, drilling|Michelle.Reyes@ao...|Stewart, Dawson a...|280-280-1661| 31|\n",
      "|        15|     Grace Pearson|          Unemployed|  Grace_P@yandex.com|       Taylor-Walker|973-809-0260| 14|\n",
      "|        16|       Lauren Hill|          Counsellor|Hill_Lauren73@aol...|Parsons, Nelson a...|175-283-1682| 27|\n",
      "|        17|    Kelsey Perkins|               Nurse|  Kelsey_P80@att.com|Stephenson, Mccoy...|925-021-2855| 25|\n",
      "|        18|      Zachary Howe|          Unemployed|Howe.Zachary@xfin...|Mullins, Dawson a...|556-773-8367|  0|\n",
      "|        19|  Elizabeth Harris|          Unemployed|Elizabeth_Harris3...|Grant, Bowman and...|177-551-8499| 11|\n",
      "+----------+------------------+--------------------+--------------------+--------------------+------------+---+\n",
      "only showing top 20 rows\n",
      "\n"
     ]
    },
    {
     "data": {
      "text/plain": [
       "1000"
      ]
     },
     "execution_count": 13,
     "metadata": {},
     "output_type": "execute_result"
    }
   ],
   "source": [
    "# Create the connection and read the table\n",
    "df_customers = spark.read \\\n",
    "    .format(\"jdbc\") \\\n",
    "    .option(\"url\", pg_url) \\\n",
    "    .option(\"dbtable\", \"customers\") \\\n",
    "    .option(\"user\", pg_user) \\\n",
    "    .option(\"password\", pg_password) \\\n",
    "    .option(\"driver\", pg_driver) \\\n",
    "    .load()\n",
    "\n",
    "df_customers.printSchema()\n",
    "df_customers.show()\n",
    "df_customers.count()"
   ]
  },
  {
   "cell_type": "code",
   "execution_count": null,
   "id": "2fa08720-ddba-4c3d-bd93-5f234be1dc81",
   "metadata": {},
   "outputs": [],
   "source": []
  }
 ],
 "metadata": {
  "kernelspec": {
   "display_name": "Python 3 (ipykernel)",
   "language": "python",
   "name": "python3"
  },
  "language_info": {
   "codemirror_mode": {
    "name": "ipython",
    "version": 3
   },
   "file_extension": ".py",
   "mimetype": "text/x-python",
   "name": "python",
   "nbconvert_exporter": "python",
   "pygments_lexer": "ipython3",
   "version": "3.10.10"
  }
 },
 "nbformat": 4,
 "nbformat_minor": 5
}
