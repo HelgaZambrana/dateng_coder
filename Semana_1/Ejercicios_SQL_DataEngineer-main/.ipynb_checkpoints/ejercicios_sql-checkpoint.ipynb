{
 "cells": [
  {
   "cell_type": "code",
   "execution_count": 1,
   "id": "b581d4e3-2a20-422f-9e16-0ae24d197b4d",
   "metadata": {
    "tags": []
   },
   "outputs": [
    {
     "name": "stdout",
     "output_type": "stream",
     "text": [
      "Ejercicios SQL\n"
     ]
    }
   ],
   "source": [
    "print(\"Ejercicios SQL\")"
   ]
  },
  {
   "cell_type": "code",
   "execution_count": null,
   "id": "b21637e7-8b33-4e65-afcf-faa1f3dca8a8",
   "metadata": {},
   "outputs": [],
   "source": []
  }
 ],
 "metadata": {
  "kernelspec": {
   "display_name": "Python 3 (ipykernel)",
   "language": "python",
   "name": "python3"
  },
  "language_info": {
   "codemirror_mode": {
    "name": "ipython",
    "version": 3
   },
   "file_extension": ".py",
   "mimetype": "text/x-python",
   "name": "python",
   "nbconvert_exporter": "python",
   "pygments_lexer": "ipython3",
   "version": "3.10.10"
  }
 },
 "nbformat": 4,
 "nbformat_minor": 5
}
