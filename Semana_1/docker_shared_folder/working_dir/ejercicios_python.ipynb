{
 "cells": [
  {
   "attachments": {},
   "cell_type": "markdown",
   "id": "b2b0e6ad-3764-4ecc-ba0d-d97075ee18b7",
   "metadata": {},
   "source": [
    "# Ejercicios Python"
   ]
  },
  {
   "attachments": {},
   "cell_type": "markdown",
   "id": "45359a75",
   "metadata": {},
   "source": [
    "## Ejercicio 1\n",
    "\n",
    "Escribí un programa que lea un número impar por teclado. Si el usuario no introduce un número impar, debe repetirse el proceso hasta que lo introduzca correctamente."
   ]
  },
  {
   "cell_type": "code",
   "execution_count": null,
   "id": "f7909cce",
   "metadata": {},
   "outputs": [],
   "source": [
    "while True:\n",
    "    if int(input('Introduce un numero impar:'))% 2==0:\n",
    "        print('Incorrecto introduce un numero impar') \n",
    "    else:\n",
    "        print('Ciclo finalizado')\n",
    "        break"
   ]
  },
  {
   "attachments": {},
   "cell_type": "markdown",
   "id": "f0f1404b",
   "metadata": {},
   "source": [
    "## Ejercicio 2\n",
    "\n",
    "Escribí un programa que pida al usuario cuantos números quiere introducir. Luego lee todos los números y realiza una media aritmética:"
   ]
  },
  {
   "cell_type": "code",
   "execution_count": null,
   "id": "41046a51",
   "metadata": {},
   "outputs": [],
   "source": [
    "cantidad=int(input('Introduce una cantidad de numeros para sacar la media:'))\n",
    "lista=[]\n",
    "for i in range(cantidad):\n",
    "    a=float(input('Introduce el numero {}:'.format(i+1)))\n",
    "    lista.append(a)\n",
    "print('La media de los numeros es:', sum(lista)/len(lista))"
   ]
  },
  {
   "attachments": {},
   "cell_type": "markdown",
   "id": "4c404844",
   "metadata": {},
   "source": [
    "## Ejercicio 3\n",
    "\n",
    "Utilizando la función range() y la conversión a listas genera las siguientes listas\n",
    "dinámicamente:\n",
    "\n",
    "- Todos los números del 0 al 10 [0, 1, 2, ..., 10]\n",
    "- Todos los números del -10 al 0 [-10, -9, -8, ..., 0]\n",
    "- Todos los números pares del 0 al 20 [0, 2, 4, ..., 20]\n",
    "- Todos los números impares entre -20 y 0 [-19, -17, -15, ..., -1]\n",
    "- Todos los números múltiples de 5 del 0 al 50 [0, 5, 10, ..., 50]"
   ]
  },
  {
   "cell_type": "code",
   "execution_count": null,
   "id": "091a7154",
   "metadata": {},
   "outputs": [],
   "source": [
    "print(list(range(0,10+1,1)));\n",
    "print([x for x in range(-10, 1)])\n",
    "print([x for x in range(0,20+1,1) if x%2==0])\n",
    "print([x for x in range(-19, -1+1)])\n",
    "print([x for x in range(0,50+1,1) if x%5==0])"
   ]
  },
  {
   "attachments": {},
   "cell_type": "markdown",
   "id": "827a8634",
   "metadata": {},
   "source": [
    "## Ejercicio 4\n",
    "\n",
    "Dadas dos listas, debes generar una tercera con todos los elementos que se repitan en ellas, pero no debe repetirse ningún elemento en la nueva lista:\n",
    "\n",
    "***Se puede optimizar esto??***"
   ]
  },
  {
   "cell_type": "code",
   "execution_count": null,
   "id": "109e880b",
   "metadata": {},
   "outputs": [
    {
     "ename": "",
     "evalue": "",
     "output_type": "error",
     "traceback": [
      "\u001b[1;31mLa ejecución de celdas con '/bin/python3' requiere el paquete ipykernel.\n",
      "\u001b[1;31mRun the following command to install 'ipykernel' into the Python environment. \n",
      "\u001b[1;31mCommand: '/bin/python3 -m pip install ipykernel -U --user --force-reinstall'"
     ]
    }
   ],
   "source": [
    "lista_1 = [\"h\",'o','l','a',' ', 'm','u','n','d','o']\n",
    "lista_2 = [\"h\",'o','l','a',' ', 'l','u','n','a']\n",
    "nueva_lista = []\n",
    "for element in lista_2:\n",
    "    if element in lista_1:\n",
    "        nueva_lista.append(element)\n",
    "print([*set(nueva_lista)])"
   ]
  },
  {
   "attachments": {},
   "cell_type": "markdown",
   "id": "ce2a3d6b",
   "metadata": {},
   "source": [
    "## Ejercicio 5\n",
    "\n",
    "Escribí un programa que sume todos los números enteros impares desde el 0 hasta el 100:"
   ]
  },
  {
   "cell_type": "code",
   "execution_count": null,
   "id": "6be3d47b",
   "metadata": {},
   "outputs": [],
   "source": [
    "lista_v=[]\n",
    "for i in range(1,100+1,1):\n",
    "    if i %2 ==0:\n",
    "        lista_v.append(0)\n",
    "    else:\n",
    "        lista_v.append(i)\n",
    "print(sum(lista_v))"
   ]
  },
  {
   "attachments": {},
   "cell_type": "markdown",
   "id": "e71bf9b6",
   "metadata": {},
   "source": [
    "## Ejercicio 6\n",
    "\n",
    "Contar cuantas veces aparece un elemento en una lista\n",
    "\n",
    "***Se puede usar count() para optimizar este proceso, o algo de itertools??***"
   ]
  },
  {
   "cell_type": "code",
   "execution_count": null,
   "id": "b81acd59",
   "metadata": {},
   "outputs": [],
   "source": [
    "def conteo(lista, elemento):\n",
    "    contador = 0\n",
    "    for elemento in lista:\n",
    "        if (elemento == x):\n",
    "            contador = contador + 1\n",
    "    return contador\n",
    " \n",
    "lt = [8, 6, 8, 10, 8, 20, 10, 8, 8]\n",
    "x = 8 #elemento\n",
    "print('{} aparece {} veces'.format(x, conteo(lt, x)))"
   ]
  }
 ],
 "metadata": {
  "kernelspec": {
   "display_name": "Python 3 (ipykernel)",
   "language": "python",
   "name": "python3"
  },
  "language_info": {
   "codemirror_mode": {
    "name": "ipython",
    "version": 3
   },
   "file_extension": ".py",
   "mimetype": "text/x-python",
   "name": "python",
   "nbconvert_exporter": "python",
   "pygments_lexer": "ipython3",
   "version": "3.8.10"
  }
 },
 "nbformat": 4,
 "nbformat_minor": 5
}
