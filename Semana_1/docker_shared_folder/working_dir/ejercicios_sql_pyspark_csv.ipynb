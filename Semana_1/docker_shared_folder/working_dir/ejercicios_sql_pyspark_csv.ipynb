{
 "cells": [
  {
   "cell_type": "markdown",
   "id": "fb0b694f-8d84-4202-af10-b78e9ff7ef45",
   "metadata": {
    "tags": []
   },
   "source": [
    "# Ejercicios SQL"
   ]
  },
  {
   "cell_type": "code",
   "execution_count": 4,
   "id": "8336213e-830e-4f2c-8321-ab8566bfcdc7",
   "metadata": {
    "tags": []
   },
   "outputs": [],
   "source": [
    "# Import SparkSession\n",
    "from pyspark.sql import SparkSession\n",
    "\n",
    "# Create SparkSession \n",
    "spark = SparkSession.builder \\\n",
    "        .master(\"local[1]\") \\\n",
    "        .appName(\"Ejercicios SQL\") \\\n",
    "        .getOrCreate()"
   ]
  },
  {
   "cell_type": "code",
   "execution_count": 5,
   "id": "b21637e7-8b33-4e65-afcf-faa1f3dca8a8",
   "metadata": {
    "tags": []
   },
   "outputs": [
    {
     "name": "stdout",
     "output_type": "stream",
     "text": [
      "root\n",
      " |-- agentid: integer (nullable = true)\n",
      " |-- name: string (nullable = true)\n",
      "\n",
      "+-------+------------------+\n",
      "|agentid|              name|\n",
      "+-------+------------------+\n",
      "|      0|  Michele Williams|\n",
      "|      1|    Jocelyn Parker|\n",
      "|      2|Christopher Moreno|\n",
      "|      3|       Todd Morrow|\n",
      "|      4|       Randy Moore|\n",
      "|      5|        Paul Nunez|\n",
      "|      6|      Gloria Singh|\n",
      "|      7|      Angel Briggs|\n",
      "|      8|      Lisa Cordova|\n",
      "|      9|        Dana Hardy|\n",
      "|     10|           Agent X|\n",
      "+-------+------------------+\n",
      "\n"
     ]
    }
   ],
   "source": [
    "# Import data from agents.csv\n",
    "df_agents = spark.read.option(\"header\",True) \\\n",
    "        .option(\"inferSchema\",True) \\\n",
    "        .csv(\"./data/agents.csv\", )\n",
    "df_agents.printSchema()\n",
    "df_agents.show()"
   ]
  },
  {
   "cell_type": "code",
   "execution_count": 2,
   "id": "16642aef-d06d-4a4c-840e-13aea10d8876",
   "metadata": {
    "tags": []
   },
   "outputs": [
    {
     "name": "stdout",
     "output_type": "stream",
     "text": [
      "root\n",
      " |-- callid: integer (nullable = true)\n",
      " |-- agentid: integer (nullable = true)\n",
      " |-- customerid: integer (nullable = true)\n",
      " |-- pickedup: integer (nullable = true)\n",
      " |-- duration: integer (nullable = true)\n",
      " |-- productsold: integer (nullable = true)\n",
      "\n",
      "+------+-------+----------+--------+--------+-----------+\n",
      "|callid|agentid|customerid|pickedup|duration|productsold|\n",
      "+------+-------+----------+--------+--------+-----------+\n",
      "|     0|     10|       179|       0|       0|          0|\n",
      "|     1|      5|       691|       1|     116|          0|\n",
      "|     2|     10|        80|       1|     165|          0|\n",
      "|     3|      6|       629|       1|     128|          0|\n",
      "|     4|      8|       318|       1|     205|          0|\n",
      "|     5|      7|       319|       1|     225|          1|\n",
      "|     6|     10|       265|       1|     211|          0|\n",
      "|     7|      9|       625|       0|       0|          0|\n",
      "|     8|      5|       877|       0|       0|          0|\n",
      "|     9|      5|       191|       1|     145|          0|\n",
      "|    10|      9|       494|       0|       0|          0|\n",
      "|    11|      5|       558|       0|       0|          0|\n",
      "|    12|      3|       703|       1|     303|          0|\n",
      "|    13|      5|       684|       1|     258|          0|\n",
      "|    14|      2|       601|       1|     179|          0|\n",
      "|    15|     10|       399|       0|       0|          0|\n",
      "|    16|      8|       460|       0|       0|          0|\n",
      "|    17|     10|       858|       1|     118|          1|\n",
      "|    18|      4|       192|       0|       0|          0|\n",
      "|    19|      8|       413|       1|     180|          0|\n",
      "+------+-------+----------+--------+--------+-----------+\n",
      "only showing top 20 rows\n",
      "\n"
     ]
    },
    {
     "data": {
      "text/plain": [
       "9940"
      ]
     },
     "execution_count": 2,
     "metadata": {},
     "output_type": "execute_result"
    }
   ],
   "source": [
    "# Import data from calls.csv\n",
    "df_calls = spark.read.option(\"header\",True) \\\n",
    "        .option(\"inferSchema\",True) \\\n",
    "        .csv(\"./data/calls.csv\", )\n",
    "df_calls.printSchema()\n",
    "df_calls.show()\n",
    "df_calls.count()"
   ]
  },
  {
   "cell_type": "code",
   "execution_count": 13,
   "id": "7605cf5f-9755-4d3b-98eb-62ddfdca6fa1",
   "metadata": {
    "tags": []
   },
   "outputs": [
    {
     "name": "stdout",
     "output_type": "stream",
     "text": [
      "root\n",
      " |-- customerid: integer (nullable = true)\n",
      " |-- name: string (nullable = true)\n",
      " |-- occupation: string (nullable = true)\n",
      " |-- email: string (nullable = true)\n",
      " |-- company: string (nullable = true)\n",
      " |-- phonenumber: string (nullable = true)\n",
      " |-- Age: integer (nullable = true)\n",
      "\n",
      "+----------+------------------+--------------------+--------------------+--------------------+------------+---+\n",
      "|customerid|              name|          occupation|               email|             company| phonenumber|Age|\n",
      "+----------+------------------+--------------------+--------------------+--------------------+------------+---+\n",
      "|         0|      David Melton|          Unemployed|    DMelton@zoho.com|Morris, Winters a...|409-093-0748| 16|\n",
      "|         1|  Michael Gonzalez|             Student|Gonzalez_Michael@...|  Hernandez and Sons|231-845-0673| 19|\n",
      "|         2|     Amanda Wilson|             Student|Amanda.Wilson75@v...|Mooney, West and ...|844-276-4552| 18|\n",
      "|         3|     Robert Thomas|Engineer, structural| RThomas@xfinity.com|      Johnson-Gordon|410-404-8000| 25|\n",
      "|         4|        Eddie Hall|             Surgeon|EddieHall@outlook...|          Dawson LLC|872-287-2196| 30|\n",
      "|         5|  Charles Cruz DDS|          Unemployed|CharlesDDS55@hotm...|   Mitchell and Sons|744-564-0382| 16|\n",
      "|         6|     Maria Johnson|Engineer, aeronau...|    MJohnson@aol.com|         Gibbs-Avery|448-258-9852| 22|\n",
      "|         7|    Michael Vaughn|   Librarian, public|MichaelVaughn@zoh...|            Rice LLC|275-669-5217| 30|\n",
      "|         8|Emily Anderson DDS|           Solicitor| Emily_DDS@yahoo.com|     Little and Sons|334-290-7258| 28|\n",
      "|         9|     Travis Jensen|          Unemployed|Travis.Jensen@hot...|     Edwards-Collins|106-848-8870| 13|\n",
      "|        10|        Ryan Banks|             Student|Ryan_Banks35@gmai...|Mitchell, Dean an...|465-548-1441| 21|\n",
      "|        11| Brandon Alexander|   Chemical engineer|Alexander_Brandon...|         Robbins Ltd|305-319-8515| 29|\n",
      "|        12|     Valerie Moore|          Unemployed|Moore_Valerie@ver...|       Choi and Sons|288-680-8457| 16|\n",
      "|        13|          Tina Cox|          Unemployed|Tina_Cox@protonma...|Giles, Harris and...|535-922-1854| 16|\n",
      "|        14|    Michelle Reyes|  Engineer, drilling|Michelle.Reyes@ao...|Stewart, Dawson a...|280-280-1661| 31|\n",
      "|        15|     Grace Pearson|          Unemployed|  Grace_P@yandex.com|       Taylor-Walker|973-809-0260| 14|\n",
      "|        16|       Lauren Hill|          Counsellor|Hill_Lauren73@aol...|Parsons, Nelson a...|175-283-1682| 27|\n",
      "|        17|    Kelsey Perkins|               Nurse|  Kelsey_P80@att.com|Stephenson, Mccoy...|925-021-2855| 25|\n",
      "|        18|      Zachary Howe|          Unemployed|Howe.Zachary@xfin...|Mullins, Dawson a...|556-773-8367|  0|\n",
      "|        19|  Elizabeth Harris|          Unemployed|Elizabeth_Harris3...|Grant, Bowman and...|177-551-8499| 11|\n",
      "+----------+------------------+--------------------+--------------------+--------------------+------------+---+\n",
      "only showing top 20 rows\n",
      "\n"
     ]
    },
    {
     "data": {
      "text/plain": [
       "1000"
      ]
     },
     "execution_count": 13,
     "metadata": {},
     "output_type": "execute_result"
    }
   ],
   "source": [
    "# Import data from customers.csv\n",
    "df_customers = spark.read.option(\"header\",True) \\\n",
    "        .option(\"inferSchema\",True) \\\n",
    "        .csv(\"./data/customers.csv\", )\n",
    "df_customers.printSchema()\n",
    "df_customers.show()"
   ]
  },
  {
   "cell_type": "code",
   "execution_count": 18,
   "id": "cb59945e-de9e-4931-811c-377544152f41",
   "metadata": {
    "tags": []
   },
   "outputs": [],
   "source": [
    "# Create temporary tables\n",
    "df_agents.createOrReplaceTempView(\"agents\")       # Agentes\n",
    "df_calls.createOrReplaceTempView(\"calls\")         # Llamadas\n",
    "df_customers.createOrReplaceTempView(\"customers\") # Clientes"
   ]
  },
  {
   "cell_type": "markdown",
   "id": "4bddc675-0f46-4736-ba89-bfbfe8c51300",
   "metadata": {
    "tags": []
   },
   "source": [
    "## Ejercicio 1\n",
    "\n",
    "Extraer agentes cuyo nombre empiezen por M o terminen en O"
   ]
  },
  {
   "cell_type": "code",
   "execution_count": null,
   "id": "bd06e664-d54a-4415-aee6-dc3d22b4de50",
   "metadata": {
    "tags": []
   },
   "outputs": [],
   "source": [
    "# SQL Select query\n",
    "df_ej_1 = spark.sql(\"\"\"\n",
    "select * from agents\n",
    "where name like 'M%' or name like '%o'\n",
    "\"\"\")\n",
    "df_ej_1.show()"
   ]
  },
  {
   "cell_type": "markdown",
   "id": "c6cf6df8-1a3d-4dcb-bbde-cee91ef09756",
   "metadata": {},
   "source": [
    "## Ejercicio 2\n",
    "Escriba una consulta que produzca una lista, en orden alfabético,  de todas las distintas ocupaciones en la tabla Customer que contengan la palabra \"Engineer\"."
   ]
  },
  {
   "cell_type": "code",
   "execution_count": null,
   "id": "b29ae0df",
   "metadata": {},
   "outputs": [],
   "source": [
    "df_ej_2 = spark.sql(\"\"\"\n",
    "SELECT DISTINCT Occupation\n",
    "FROM customers\n",
    "WHERE Occupation LIKE '%Engineer%'\n",
    "ORDER BY Occupation\n",
    "\"\"\")\n",
    "df_ej_2.show()"
   ]
  },
  {
   "cell_type": "markdown",
   "id": "7dc723b8",
   "metadata": {},
   "source": [
    "## Ejercicio 3\n",
    "\n",
    "Escriba una consulta que devuelva el ID del cliente, su nombre y una columna  Mayor30 que contenga \"Sí\" si el cliente tiene más de 30 años y \"No\" en caso contrario."
   ]
  },
  {
   "cell_type": "code",
   "execution_count": null,
   "id": "0fe70fa0",
   "metadata": {},
   "outputs": [],
   "source": [
    "df_ej_3 = spark.sql(\"\"\"\n",
    "SELECT CustomerID, Name,\n",
    "    CASE\n",
    "        WHEN Age >= 30 THEN 'Yes'\n",
    "        WHEN Age <  30 THEN 'No'\n",
    "        ELSE 'Missing Data'\n",
    "    END AS Over30\n",
    "FROM customers\n",
    "ORDER BY Name DESC\n",
    "\"\"\")\n",
    "df_ej_3.show()"
   ]
  },
  {
   "cell_type": "markdown",
   "id": "613d4a51",
   "metadata": {},
   "source": [
    "## Ejercicio 4\n",
    "\n",
    "Escriba una consulta que devuelva todas las llamadas realizadas a clientes de la  profesión de ingeniería y muestre si son mayores o menores de 30, así como si  terminaron comprando el producto de esa llamada."
   ]
  },
  {
   "cell_type": "code",
   "execution_count": null,
   "id": "db1f66f8",
   "metadata": {},
   "outputs": [],
   "source": [
    "df_ej_4 = spark.sql(\"\"\"\n",
    "SELECT CallID, Cu.CustomerID, Name, ProductSold,\n",
    "    CASE\n",
    "        WHEN Age >= 30 THEN 'Yes'\n",
    "        WHEN Age <  30 THEN 'No'\n",
    "        ELSE 'Missing Data'\n",
    "    END AS Over30\n",
    "FROM customers Cu\n",
    "JOIN calls Ca ON Ca.CustomerID = Cu.CustomerID\n",
    "WHERE Occupation LIKE '%Engineer%'\n",
    "ORDER BY Name DESC\n",
    "\"\"\")\n",
    "df_ej_4.show()"
   ]
  },
  {
   "cell_type": "markdown",
   "id": "ee3c5c0f",
   "metadata": {},
   "source": [
    "## Ejercicio 5\n",
    "\n",
    "Escriba dos consultas: una que calcule las ventas totales y las llamadas totales realizadas a los clientes de la profesión de ingeniería y otra que calcule las mismas métricas para toda la base de clientes"
   ]
  },
  {
   "cell_type": "code",
   "execution_count": null,
   "id": "6c3f7389",
   "metadata": {},
   "outputs": [],
   "source": [
    "df_ej_5 = spark.sql(\"\"\"\n",
    "SELECT SUM(ProductSold) AS TotalSales, COUNT(*) AS NCalls\n",
    "FROM customers Cu\n",
    "JOIN calls Ca ON Ca.CustomerID = Cu.CustomerID\n",
    "WHERE Occupation LIKE '%Engineer%'\n",
    "\"\"\")\n",
    "df_ej_5.show()"
   ]
  },
  {
   "cell_type": "markdown",
   "id": "9992fb18",
   "metadata": {},
   "source": [
    "## Ejercicio 6\n",
    "\n",
    "Escriba una consulta que devuelva, para cada agente, el nombre del agente, la cantidad de llamadas, las llamadas más largas y más cortas, la duración promedio de las llamadas y la cantidad total de productos vendidos. Nombra las columnas AgentName, NCalls, Shortest, Longest, AvgDuration y TotalSales.\n",
    "\n",
    "Luego ordena la tabla por AgentName en orden alfabético.  (Asegúrese de incluir la cláusula WHERE PickedUp = 1 para calcular solo el promedio de todas las llamadas que fueron atendidas (de lo contrario, ¡todas las duraciones mínimas serán 0)!)"
   ]
  },
  {
   "cell_type": "code",
   "execution_count": null,
   "id": "3b36ce69",
   "metadata": {},
   "outputs": [],
   "source": [
    "df_ej_6 = spark.sql(\"\"\"\n",
    "SELECT Name AS AgentName, COUNT(*) AS NCalls, MIN(Duration) AS Shortest, MAX(Duration) AS Longest, ROUND(AVG(Duration),2) AS AvgDuration, SUM(ProductSold) AS TotalSales\n",
    "FROM calls C\n",
    "    JOIN agents A ON C.AgentID = A.AgentID\n",
    "WHERE PickeDup = 1\n",
    "GROUP BY Name\n",
    "ORDER BY Name\n",
    "\"\"\")\n",
    "df_ej_6.show()"
   ]
  },
  {
   "cell_type": "markdown",
   "id": "bba9f5c5",
   "metadata": {},
   "source": [
    "## Ejercicio 7\n",
    "\n",
    "Dos métricas del desempeño de los agentes de ventas que le interesan a su empresa son: \n",
    "1. para cada agente, cuántos segundos en promedio les toma vender un producto cuando tienen éxito\n",
    "2. para cada agente, cuántos segundos en promedio permanecen en el teléfono antes de darse por vencidos cuando no tienen éxito. Escribe una consulta que calcule esto"
   ]
  },
  {
   "cell_type": "code",
   "execution_count": null,
   "id": "eea2ab95",
   "metadata": {},
   "outputs": [],
   "source": [
    "df_ej_7 = spark.sql(\"\"\"\n",
    "SELECT a.name,\n",
    "SUM(\n",
    "   CASE\n",
    "       WHEN productsold = 0 THEN duration\n",
    "       ELSE 0\n",
    "   END)/SUM(\n",
    "   CASE\n",
    "       WHEN productsold = 0 THEN 1\n",
    "       ELSE 0\n",
    "   END)\n",
    "AS avgWhenNotSold ,\n",
    "SUM(\n",
    "   CASE\n",
    "       WHEN productsold = 1 THEN duration\n",
    "       ELSE 0\n",
    "   END)/SUM(\n",
    "       CASE WHEN productsold = 1 THEN 1\n",
    "       ELSE 0\n",
    "   END)\n",
    "AS avgWhenSold\n",
    "FROM calls c\n",
    "JOIN agents a ON c.agentid = a.agentid\n",
    "GROUP BY a.name\n",
    "ORDER BY 1\n",
    "\"\"\")\n",
    "df_ej_7.show()"
   ]
  }
 ],
 "metadata": {
  "kernelspec": {
   "display_name": "Python 3 (ipykernel)",
   "language": "python",
   "name": "python3"
  },
  "language_info": {
   "codemirror_mode": {
    "name": "ipython",
    "version": 3
   },
   "file_extension": ".py",
   "mimetype": "text/x-python",
   "name": "python",
   "nbconvert_exporter": "python",
   "pygments_lexer": "ipython3",
   "version": "3.10.10"
  }
 },
 "nbformat": 4,
 "nbformat_minor": 5
}
